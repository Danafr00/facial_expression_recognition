{
 "cells": [
  {
   "cell_type": "markdown",
   "metadata": {
    "id": "_cVszeGY6PZy"
   },
   "source": [
    "Lesson 4"
   ]
  },
  {
   "cell_type": "code",
   "execution_count": null,
   "metadata": {
    "colab": {
     "base_uri": "https://localhost:8080/"
    },
    "executionInfo": {
     "elapsed": 5640,
     "status": "ok",
     "timestamp": 1615451751013,
     "user": {
      "displayName": "Abhilash Chintada",
      "photoUrl": "https://lh3.googleusercontent.com/a-/AOh14GhlwwwMJr16CgjmRFWk833xZEy2OfpaFZDIqM84=s64",
      "userId": "00311744807213723199"
     },
     "user_tz": -330
    },
    "id": "8_6K1O3-NO5J",
    "outputId": "8a2b99a4-d2a1-4cf5-e2ac-df78825c9315"
   },
   "outputs": [
    {
     "name": "stdout",
     "output_type": "stream",
     "text": [
      "--2021-03-11 08:35:46--  https://www.dropbox.com/s/si11cws2pyho1bp/archive.zip\n",
      "Resolving www.dropbox.com (www.dropbox.com)... 162.125.1.18, 2620:100:601a:18::a27d:712\n",
      "Connecting to www.dropbox.com (www.dropbox.com)|162.125.1.18|:443... connected.\n",
      "HTTP request sent, awaiting response... 301 Moved Permanently\n",
      "Location: /s/raw/si11cws2pyho1bp/archive.zip [following]\n",
      "--2021-03-11 08:35:46--  https://www.dropbox.com/s/raw/si11cws2pyho1bp/archive.zip\n",
      "Reusing existing connection to www.dropbox.com:443.\n",
      "HTTP request sent, awaiting response... 302 Found\n",
      "Location: https://uc25e83f58f1b9a6f7e55e255ff7.dl.dropboxusercontent.com/cd/0/inline/BKe5xQbgYQYCGZSiScKP9o9MoFKrpNB8kKMjOWc-TqSoOxtV4VStZnTI-5n1SmzyR_R0slfpbIXnAHTLxvaV5_WWKmQMxJZgvt09byHs0gBMRNNLhcJDemxc3-46QnoNG8TST36XoPNs_RFplIQZILqb/file# [following]\n",
      "--2021-03-11 08:35:47--  https://uc25e83f58f1b9a6f7e55e255ff7.dl.dropboxusercontent.com/cd/0/inline/BKe5xQbgYQYCGZSiScKP9o9MoFKrpNB8kKMjOWc-TqSoOxtV4VStZnTI-5n1SmzyR_R0slfpbIXnAHTLxvaV5_WWKmQMxJZgvt09byHs0gBMRNNLhcJDemxc3-46QnoNG8TST36XoPNs_RFplIQZILqb/file\n",
      "Resolving uc25e83f58f1b9a6f7e55e255ff7.dl.dropboxusercontent.com (uc25e83f58f1b9a6f7e55e255ff7.dl.dropboxusercontent.com)... 162.125.1.15, 2620:100:6017:15::a27d:20f\n",
      "Connecting to uc25e83f58f1b9a6f7e55e255ff7.dl.dropboxusercontent.com (uc25e83f58f1b9a6f7e55e255ff7.dl.dropboxusercontent.com)|162.125.1.15|:443... connected.\n",
      "HTTP request sent, awaiting response... 302 Found\n",
      "Location: /cd/0/inline2/BKcUT2VOgFnvwuU-AZyPmqt2sTcKsUQtigI1EeyESkq-z88r6IThYgc1B0oOSUt161_MxtHKeMql_cjQhcxVqM1YY5a0NSsJs7LZmwC3uRpGuAadiHAfdTc_nYofotxktGqTxet4VGVpePRgmziN0Eu5-flIU-Ffn8wCxObLR7o8p69IJYfRBHsec3Ce3V8s3pFKnJxNfN2HlOOkERM4PMCCI7OrFXrpSMPleVxznEo7wN0VYGSdhwDN-y0hlt8sAFrocdGD2z5HNGHL8G-gVbsPdrwyGvi5aF7jXUWOasmZBepc9iyPvHmE1i5wtDbZG4Dc9xt_5M-VdOd8oRpzJsd4gWQyBklhUsbcJCs0viZxCM0-ZU1O_SXxjt3I_o07cmw/file [following]\n",
      "--2021-03-11 08:35:48--  https://uc25e83f58f1b9a6f7e55e255ff7.dl.dropboxusercontent.com/cd/0/inline2/BKcUT2VOgFnvwuU-AZyPmqt2sTcKsUQtigI1EeyESkq-z88r6IThYgc1B0oOSUt161_MxtHKeMql_cjQhcxVqM1YY5a0NSsJs7LZmwC3uRpGuAadiHAfdTc_nYofotxktGqTxet4VGVpePRgmziN0Eu5-flIU-Ffn8wCxObLR7o8p69IJYfRBHsec3Ce3V8s3pFKnJxNfN2HlOOkERM4PMCCI7OrFXrpSMPleVxznEo7wN0VYGSdhwDN-y0hlt8sAFrocdGD2z5HNGHL8G-gVbsPdrwyGvi5aF7jXUWOasmZBepc9iyPvHmE1i5wtDbZG4Dc9xt_5M-VdOd8oRpzJsd4gWQyBklhUsbcJCs0viZxCM0-ZU1O_SXxjt3I_o07cmw/file\n",
      "Reusing existing connection to uc25e83f58f1b9a6f7e55e255ff7.dl.dropboxusercontent.com:443.\n",
      "HTTP request sent, awaiting response... 200 OK\n",
      "Length: 63252113 (60M) [application/zip]\n",
      "Saving to: ‘archive.zip’\n",
      "\n",
      "archive.zip         100%[===================>]  60.32M  30.0MB/s    in 2.0s    \n",
      "\n",
      "2021-03-11 08:35:50 (30.0 MB/s) - ‘archive.zip’ saved [63252113/63252113]\n",
      "\n"
     ]
    }
   ],
   "source": [
    "!wget https://www.dropbox.com/s/si11cws2pyho1bp/archive.zip"
   ]
  },
  {
   "cell_type": "code",
   "execution_count": null,
   "metadata": {
    "id": "BQT_DQsTPDzB"
   },
   "outputs": [],
   "source": [
    "!unzip -q \"/content/archive.zip\""
   ]
  },
  {
   "cell_type": "code",
   "execution_count": null,
   "metadata": {
    "id": "bbucsZPQhcps"
   },
   "outputs": [],
   "source": [
    "# Imports required for this project\n",
    "import tensorflow as tf\n",
    "import numpy as np\n",
    "import matplotlib.pyplot as plt\n",
    "from pathlib import Path\n",
    "\n",
    "tf.random.set_seed(4)"
   ]
  },
  {
   "cell_type": "code",
   "execution_count": null,
   "metadata": {
    "id": "2USniwjMjJlq"
   },
   "outputs": [],
   "source": [
    "# Creating the Pathlib PATH objects\n",
    "train_path = Path(\"/content/train\")\n",
    "test_path = Path(\"/content/test\")"
   ]
  },
  {
   "cell_type": "code",
   "execution_count": null,
   "metadata": {
    "colab": {
     "base_uri": "https://localhost:8080/"
    },
    "executionInfo": {
     "elapsed": 2146,
     "status": "ok",
     "timestamp": 1615046874506,
     "user": {
      "displayName": "Abhilash Chintada",
      "photoUrl": "https://lh3.googleusercontent.com/a-/AOh14GhlwwwMJr16CgjmRFWk833xZEy2OfpaFZDIqM84=s64",
      "userId": "00311744807213723199"
     },
     "user_tz": -330
    },
    "id": "CY8kbQwokLyR",
    "outputId": "8175446d-653e-428a-b44b-fbd04453ab28"
   },
   "outputs": [
    {
     "data": {
      "text/plain": [
       "['/content/train/surprise/Training_13005739.jpg',\n",
       " '/content/train/surprise/Training_42331850.jpg',\n",
       " '/content/train/surprise/Training_44495606.jpg',\n",
       " '/content/train/surprise/Training_4944485.jpg',\n",
       " '/content/train/surprise/Training_42143192.jpg',\n",
       " '/content/train/surprise/Training_43002756.jpg',\n",
       " '/content/train/surprise/Training_67986198.jpg',\n",
       " '/content/train/surprise/Training_48914569.jpg',\n",
       " '/content/train/surprise/Training_98393554.jpg',\n",
       " '/content/train/surprise/Training_11999214.jpg']"
      ]
     },
     "execution_count": 5,
     "metadata": {
      "tags": []
     },
     "output_type": "execute_result"
    }
   ],
   "source": [
    "# Getting Image paths \n",
    "train_image_paths = list(train_path.glob(\"*/*\"))\n",
    "train_image_paths = list(map(lambda x : str(x) , train_image_paths))\n",
    "\n",
    "train_image_paths[:10]"
   ]
  },
  {
   "cell_type": "code",
   "execution_count": null,
   "metadata": {
    "colab": {
     "base_uri": "https://localhost:8080/"
    },
    "executionInfo": {
     "elapsed": 2429,
     "status": "ok",
     "timestamp": 1615046874936,
     "user": {
      "displayName": "Abhilash Chintada",
      "photoUrl": "https://lh3.googleusercontent.com/a-/AOh14GhlwwwMJr16CgjmRFWk833xZEy2OfpaFZDIqM84=s64",
      "userId": "00311744807213723199"
     },
     "user_tz": -330
    },
    "id": "nHGWNSp8kcLr",
    "outputId": "a6d37a3d-cd61-45f4-d15d-a2624c519654"
   },
   "outputs": [
    {
     "data": {
      "text/plain": [
       "['surprise',\n",
       " 'surprise',\n",
       " 'surprise',\n",
       " 'surprise',\n",
       " 'surprise',\n",
       " 'surprise',\n",
       " 'surprise',\n",
       " 'surprise',\n",
       " 'surprise',\n",
       " 'surprise']"
      ]
     },
     "execution_count": 6,
     "metadata": {
      "tags": []
     },
     "output_type": "execute_result"
    }
   ],
   "source": [
    "# Getting their respective labels \n",
    "\n",
    "def get_label(image_path):\n",
    "    return image_path.split(\"/\")[-2]\n",
    "\n",
    "train_image_labels = list(map(lambda x : get_label(x) , train_image_paths))\n",
    "train_image_labels[:10]"
   ]
  },
  {
   "cell_type": "code",
   "execution_count": null,
   "metadata": {
    "colab": {
     "base_uri": "https://localhost:8080/"
    },
    "executionInfo": {
     "elapsed": 1432,
     "status": "ok",
     "timestamp": 1615046876504,
     "user": {
      "displayName": "Abhilash Chintada",
      "photoUrl": "https://lh3.googleusercontent.com/a-/AOh14GhlwwwMJr16CgjmRFWk833xZEy2OfpaFZDIqM84=s64",
      "userId": "00311744807213723199"
     },
     "user_tz": -330
    },
    "id": "DtBFz9NfknrJ",
    "outputId": "4fcbf1c8-cd7b-4969-9f36-d4c2ad8856af"
   },
   "outputs": [
    {
     "data": {
      "text/plain": [
       "array([6, 6, 6, 6, 6, 6, 6, 6, 6, 6])"
      ]
     },
     "execution_count": 7,
     "metadata": {
      "tags": []
     },
     "output_type": "execute_result"
    }
   ],
   "source": [
    "from sklearn.preprocessing import LabelEncoder \n",
    "\n",
    "Le = LabelEncoder()\n",
    "train_image_labels = Le.fit_transform(train_image_labels)\n",
    "\n",
    "train_image_labels[:10]"
   ]
  },
  {
   "cell_type": "code",
   "execution_count": null,
   "metadata": {
    "colab": {
     "base_uri": "https://localhost:8080/"
    },
    "executionInfo": {
     "elapsed": 1268,
     "status": "ok",
     "timestamp": 1615046876506,
     "user": {
      "displayName": "Abhilash Chintada",
      "photoUrl": "https://lh3.googleusercontent.com/a-/AOh14GhlwwwMJr16CgjmRFWk833xZEy2OfpaFZDIqM84=s64",
      "userId": "00311744807213723199"
     },
     "user_tz": -330
    },
    "id": "HS6UTHa7T-Et",
    "outputId": "7493f6c9-4c7b-412b-a059-50d8f8f076f7"
   },
   "outputs": [
    {
     "data": {
      "text/plain": [
       "array([[0., 0., 0., 0., 0., 0., 1.],\n",
       "       [0., 0., 0., 0., 0., 0., 1.],\n",
       "       [0., 0., 0., 0., 0., 0., 1.],\n",
       "       [0., 0., 0., 0., 0., 0., 1.],\n",
       "       [0., 0., 0., 0., 0., 0., 1.],\n",
       "       [0., 0., 0., 0., 0., 0., 1.],\n",
       "       [0., 0., 0., 0., 0., 0., 1.],\n",
       "       [0., 0., 0., 0., 0., 0., 1.],\n",
       "       [0., 0., 0., 0., 0., 0., 1.],\n",
       "       [0., 0., 0., 0., 0., 0., 1.]], dtype=float32)"
      ]
     },
     "execution_count": 8,
     "metadata": {
      "tags": []
     },
     "output_type": "execute_result"
    }
   ],
   "source": [
    "train_image_labels = tf.keras.utils.to_categorical(train_image_labels)\n",
    "\n",
    "train_image_labels[:10]"
   ]
  },
  {
   "cell_type": "code",
   "execution_count": null,
   "metadata": {
    "id": "Ji1Weit-lVDU"
   },
   "outputs": [],
   "source": [
    "from sklearn.model_selection import train_test_split \n",
    "\n",
    "Train_paths , Val_paths , Train_labels , Val_labels = train_test_split(train_image_paths , train_image_labels , test_size = 0.25)"
   ]
  },
  {
   "cell_type": "code",
   "execution_count": null,
   "metadata": {
    "colab": {
     "base_uri": "https://localhost:8080/"
    },
    "executionInfo": {
     "elapsed": 553,
     "status": "ok",
     "timestamp": 1615046877815,
     "user": {
      "displayName": "Abhilash Chintada",
      "photoUrl": "https://lh3.googleusercontent.com/a-/AOh14GhlwwwMJr16CgjmRFWk833xZEy2OfpaFZDIqM84=s64",
      "userId": "00311744807213723199"
     },
     "user_tz": -330
    },
    "id": "VTaelfZtZ27-",
    "outputId": "01db29f8-7867-4dfa-cb8e-14171e4dc27d"
   },
   "outputs": [
    {
     "name": "stdout",
     "output_type": "stream",
     "text": [
      "{0: 1.7802706, 1: 16.302114, 2: 1.7732501, 3: 1.0, 4: 1.4556245, 5: 1.4865013, 6: 2.2549102}\n"
     ]
    }
   ],
   "source": [
    "# Compute class weights \n",
    "\n",
    "classTotals = Train_labels.sum(axis=0)\n",
    "classWeight = classTotals.max() / classTotals\n",
    "\n",
    "class_weight = {e : weight for e , weight in enumerate(classWeight)}\n",
    "print(class_weight)"
   ]
  },
  {
   "cell_type": "markdown",
   "metadata": {
    "id": "wHd7EARA6NSl"
   },
   "source": [
    "Lesson 5"
   ]
  },
  {
   "cell_type": "code",
   "execution_count": null,
   "metadata": {
    "id": "WayfB4DUlwwP"
   },
   "outputs": [],
   "source": [
    "# Function used for Transformation\n",
    "\n",
    "def load(image , label):\n",
    "    image = tf.io.read_file(image)\n",
    "    image = tf.io.decode_jpeg(image , channels = 3)\n",
    "    return image , label"
   ]
  },
  {
   "cell_type": "code",
   "execution_count": null,
   "metadata": {
    "id": "4oJwdwPnR2iI"
   },
   "outputs": [],
   "source": [
    "# Define IMAGE SIZE and BATCH SIZE \n",
    "IMG_SIZE = 96 \n",
    "BATCH_SIZE = 32\n",
    "\n",
    "# Basic Transformation\n",
    "resize = tf.keras.Sequential([\n",
    "    tf.keras.layers.experimental.preprocessing.Resizing(IMG_SIZE, IMG_SIZE)          \n",
    "])\n",
    "\n",
    "# Data Augmentation\n",
    "data_augmentation = tf.keras.Sequential([\n",
    "    tf.keras.layers.experimental.preprocessing.RandomFlip(\"horizontal\"),\n",
    "    tf.keras.layers.experimental.preprocessing.RandomRotation(0.1),\n",
    "    tf.keras.layers.experimental.preprocessing.RandomZoom(height_factor = (-0.1, -0.05))\n",
    "])"
   ]
  },
  {
   "cell_type": "code",
   "execution_count": null,
   "metadata": {
    "id": "rR4A_FLKl9Cp"
   },
   "outputs": [],
   "source": [
    "# Function used to Create a Tensorflow Data Object\n",
    "AUTOTUNE = tf.data.experimental.AUTOTUNE\n",
    "def get_dataset(paths , labels , train = True):\n",
    "    image_paths = tf.convert_to_tensor(paths)\n",
    "    labels = tf.convert_to_tensor(labels)\n",
    "\n",
    "    image_dataset = tf.data.Dataset.from_tensor_slices(image_paths)\n",
    "    label_dataset = tf.data.Dataset.from_tensor_slices(labels)\n",
    "\n",
    "    dataset = tf.data.Dataset.zip((image_dataset , label_dataset))\n",
    "\n",
    "    dataset = dataset.map(lambda image , label : load(image , label))\n",
    "    dataset = dataset.map(lambda image, label: (resize(image), label) , num_parallel_calls=AUTOTUNE)\n",
    "    dataset = dataset.shuffle(1000)\n",
    "    dataset = dataset.batch(BATCH_SIZE)\n",
    "\n",
    "    if train:\n",
    "        dataset = dataset.map(lambda image, label: (data_augmentation(image), label) , num_parallel_calls=AUTOTUNE)\n",
    "    \n",
    "    dataset = dataset.repeat()\n",
    "    return dataset"
   ]
  },
  {
   "cell_type": "code",
   "execution_count": null,
   "metadata": {
    "colab": {
     "base_uri": "https://localhost:8080/"
    },
    "executionInfo": {
     "elapsed": 4228,
     "status": "ok",
     "timestamp": 1615019514837,
     "user": {
      "displayName": "Abhilash Chintada",
      "photoUrl": "https://lh3.googleusercontent.com/a-/AOh14GhlwwwMJr16CgjmRFWk833xZEy2OfpaFZDIqM84=s64",
      "userId": "00311744807213723199"
     },
     "user_tz": -330
    },
    "id": "eXbkOIjjoZo4",
    "outputId": "589006e9-4239-4be7-a5ff-934584f5f258"
   },
   "outputs": [
    {
     "name": "stdout",
     "output_type": "stream",
     "text": [
      "CPU times: user 318 ms, sys: 8.77 ms, total: 327 ms\n",
      "Wall time: 328 ms\n",
      "(32, 96, 96, 3)\n",
      "(32, 7)\n"
     ]
    }
   ],
   "source": [
    "# Creating Train Dataset object and Verifying it\n",
    "%time train_dataset = get_dataset(Train_paths , Train_labels)\n",
    "\n",
    "image , label = next(iter(train_dataset))\n",
    "print(image.shape)\n",
    "print(label.shape)"
   ]
  },
  {
   "cell_type": "code",
   "execution_count": null,
   "metadata": {
    "colab": {
     "base_uri": "https://localhost:8080/",
     "height": 302
    },
    "executionInfo": {
     "elapsed": 4213,
     "status": "ok",
     "timestamp": 1615019514838,
     "user": {
      "displayName": "Abhilash Chintada",
      "photoUrl": "https://lh3.googleusercontent.com/a-/AOh14GhlwwwMJr16CgjmRFWk833xZEy2OfpaFZDIqM84=s64",
      "userId": "00311744807213723199"
     },
     "user_tz": -330
    },
    "id": "qmEunSLQrmoy",
    "outputId": "8653d6c2-4d1b-4c96-a307-1c4b830ccc0c"
   },
   "outputs": [
    {
     "name": "stdout",
     "output_type": "stream",
     "text": [
      "happy\n"
     ]
    },
    {
     "data": {
      "text/plain": [
       "<matplotlib.image.AxesImage at 0x7fdd8a76b4d0>"
      ]
     },
     "execution_count": 14,
     "metadata": {
      "tags": []
     },
     "output_type": "execute_result"
    },
    {
     "data": {
      "image/png": "[encoded data removed]",
      "text/plain": [
       "<Figure size 432x288 with 1 Axes>"
      ]
     },
     "metadata": {
      "needs_background": "light",
      "tags": []
     },
     "output_type": "display_data"
    }
   ],
   "source": [
    "# View a sample Training Image\n",
    "print(Le.inverse_transform(np.argmax(label , axis = 1))[0])\n",
    "plt.imshow((image[0].numpy()/255).reshape(96 , 96 , 3))"
   ]
  },
  {
   "cell_type": "code",
   "execution_count": null,
   "metadata": {
    "colab": {
     "base_uri": "https://localhost:8080/"
    },
    "executionInfo": {
     "elapsed": 4957,
     "status": "ok",
     "timestamp": 1615019515596,
     "user": {
      "displayName": "Abhilash Chintada",
      "photoUrl": "https://lh3.googleusercontent.com/a-/AOh14GhlwwwMJr16CgjmRFWk833xZEy2OfpaFZDIqM84=s64",
      "userId": "00311744807213723199"
     },
     "user_tz": -330
    },
    "id": "Xi9IJStcoc6M",
    "outputId": "9ab3e301-960c-439d-ed89-06f129379a8f"
   },
   "outputs": [
    {
     "name": "stdout",
     "output_type": "stream",
     "text": [
      "CPU times: user 113 ms, sys: 981 µs, total: 114 ms\n",
      "Wall time: 114 ms\n",
      "(32, 96, 96, 3)\n",
      "(32, 7)\n"
     ]
    }
   ],
   "source": [
    "%time val_dataset = get_dataset(Val_paths , Val_labels , train = False)\n",
    "\n",
    "image , label = next(iter(val_dataset))\n",
    "print(image.shape)\n",
    "print(label.shape)"
   ]
  },
  {
   "cell_type": "code",
   "execution_count": null,
   "metadata": {
    "colab": {
     "base_uri": "https://localhost:8080/",
     "height": 302
    },
    "executionInfo": {
     "elapsed": 4945,
     "status": "ok",
     "timestamp": 1615019515598,
     "user": {
      "displayName": "Abhilash Chintada",
      "photoUrl": "https://lh3.googleusercontent.com/a-/AOh14GhlwwwMJr16CgjmRFWk833xZEy2OfpaFZDIqM84=s64",
      "userId": "00311744807213723199"
     },
     "user_tz": -330
    },
    "id": "b_gqj-vjvErp",
    "outputId": "eddbd76e-81be-4c81-84ce-01e6ee909cd0"
   },
   "outputs": [
    {
     "name": "stdout",
     "output_type": "stream",
     "text": [
      "happy\n"
     ]
    },
    {
     "data": {
      "text/plain": [
       "<matplotlib.image.AxesImage at 0x7fddc00f5b10>"
      ]
     },
     "execution_count": 16,
     "metadata": {
      "tags": []
     },
     "output_type": "execute_result"
    },
    {
     "data": {
      "image/png": "[encoded data removed]",
      "text/plain": [
       "<Figure size 432x288 with 1 Axes>"
      ]
     },
     "metadata": {
      "needs_background": "light",
      "tags": []
     },
     "output_type": "display_data"
    }
   ],
   "source": [
    "# View a sample Validation Image\n",
    "print(Le.inverse_transform(np.argmax(label , axis = 1))[0])\n",
    "plt.imshow((image[0].numpy()/255).reshape(96 , 96 , 3))"
   ]
  },
  {
   "cell_type": "code",
   "execution_count": null,
   "metadata": {
    "colab": {
     "base_uri": "https://localhost:8080/"
    },
    "executionInfo": {
     "elapsed": 7539,
     "status": "ok",
     "timestamp": 1615019518202,
     "user": {
      "displayName": "Abhilash Chintada",
      "photoUrl": "https://lh3.googleusercontent.com/a-/AOh14GhlwwwMJr16CgjmRFWk833xZEy2OfpaFZDIqM84=s64",
      "userId": "00311744807213723199"
     },
     "user_tz": -330
    },
    "id": "9e32BWRjUuV6",
    "outputId": "97e9f030-bb28-4e45-df27-76504ed07433"
   },
   "outputs": [
    {
     "name": "stdout",
     "output_type": "stream",
     "text": [
      "Model: \"sequential_2\"\n",
      "_________________________________________________________________\n",
      "Layer (type)                 Output Shape              Param #   \n",
      "=================================================================\n",
      "efficientnetb2 (Functional)  (None, 3, 3, 1408)        7768569   \n",
      "_________________________________________________________________\n",
      "global_average_pooling2d (Gl (None, 1408)              0         \n",
      "_________________________________________________________________\n",
      "dropout (Dropout)            (None, 1408)              0         \n",
      "_________________________________________________________________\n",
      "dense (Dense)                (None, 128)               180352    \n",
      "_________________________________________________________________\n",
      "dense_1 (Dense)              (None, 7)                 903       \n",
      "=================================================================\n",
      "Total params: 7,949,824\n",
      "Trainable params: 7,882,249\n",
      "Non-trainable params: 67,575\n",
      "_________________________________________________________________\n"
     ]
    }
   ],
   "source": [
    "# Building EfficientNet model\n",
    "from tensorflow.keras.applications import EfficientNetB2\n",
    "\n",
    "backbone = EfficientNetB2(\n",
    "    input_shape=(96, 96, 3),\n",
    "    include_top=False\n",
    ")\n",
    "\n",
    "model = tf.keras.Sequential([\n",
    "    backbone,\n",
    "    tf.keras.layers.GlobalAveragePooling2D(),\n",
    "    tf.keras.layers.Dropout(0.3),\n",
    "    tf.keras.layers.Dense(128, activation='relu'),\n",
    "    tf.keras.layers.Dense(7, activation='softmax')\n",
    "])\n",
    "\n",
    "model.summary()"
   ]
  },
  {
   "cell_type": "code",
   "execution_count": null,
   "metadata": {
    "id": "crnP0rolUy0O"
   },
   "outputs": [],
   "source": [
    "# Compiling your model by providing the Optimizer , Loss and Metrics\n",
    "model.compile(\n",
    "    optimizer=tf.keras.optimizers.Adam(learning_rate=0.001, beta_1=0.9, beta_2=0.999, epsilon=1e-07),\n",
    "    loss = 'categorical_crossentropy',\n",
    "    metrics=['accuracy' , tf.keras.metrics.Precision(name='precision'),tf.keras.metrics.Recall(name='recall')]\n",
    ")"
   ]
  },
  {
   "cell_type": "code",
   "execution_count": null,
   "metadata": {
    "colab": {
     "base_uri": "https://localhost:8080/"
    },
    "executionInfo": {
     "elapsed": 1150430,
     "status": "ok",
     "timestamp": 1615020661119,
     "user": {
      "displayName": "Abhilash Chintada",
      "photoUrl": "https://lh3.googleusercontent.com/a-/AOh14GhlwwwMJr16CgjmRFWk833xZEy2OfpaFZDIqM84=s64",
      "userId": "00311744807213723199"
     },
     "user_tz": -330
    },
    "id": "bATVPoL4xtyJ",
    "outputId": "665b4ce3-0143-42ee-8253-568309a34c25"
   },
   "outputs": [
    {
     "name": "stdout",
     "output_type": "stream",
     "text": [
      "Epoch 1/12\n",
      "672/672 [==============================] - 109s 141ms/step - loss: 3.0738 - accuracy: 0.3426 - precision: 0.5389 - recall: 0.1286 - val_loss: 1.6473 - val_accuracy: 0.4103 - val_precision: 0.6277 - val_recall: 0.2335\n",
      "\n",
      "Epoch 00001: val_loss improved from inf to 1.64727, saving model to best_weights.h5\n",
      "Epoch 2/12\n",
      "672/672 [==============================] - 95s 139ms/step - loss: 2.5196 - accuracy: 0.4631 - precision: 0.6873 - recall: 0.2533 - val_loss: 1.3696 - val_accuracy: 0.5056 - val_precision: 0.6726 - val_recall: 0.2780\n",
      "\n",
      "Epoch 00002: val_loss improved from 1.64727 to 1.36964, saving model to best_weights.h5\n",
      "Epoch 3/12\n",
      "672/672 [==============================] - 93s 139ms/step - loss: 2.3181 - accuracy: 0.4999 - precision: 0.6924 - recall: 0.3048 - val_loss: 1.2035 - val_accuracy: 0.5480 - val_precision: 0.7116 - val_recall: 0.3952\n",
      "\n",
      "Epoch 00003: val_loss improved from 1.36964 to 1.20353, saving model to best_weights.h5\n",
      "Epoch 4/12\n",
      "672/672 [==============================] - 93s 139ms/step - loss: 2.1488 - accuracy: 0.5367 - precision: 0.6990 - recall: 0.3515 - val_loss: 1.2342 - val_accuracy: 0.5388 - val_precision: 0.7082 - val_recall: 0.3707\n",
      "\n",
      "Epoch 00004: val_loss did not improve from 1.20353\n",
      "Epoch 5/12\n",
      "672/672 [==============================] - 95s 141ms/step - loss: 2.1016 - accuracy: 0.5455 - precision: 0.7158 - recall: 0.3617 - val_loss: 1.2610 - val_accuracy: 0.5501 - val_precision: 0.6694 - val_recall: 0.4231\n",
      "\n",
      "Epoch 00005: val_loss did not improve from 1.20353\n",
      "Epoch 6/12\n",
      "672/672 [==============================] - 94s 140ms/step - loss: 2.0161 - accuracy: 0.5577 - precision: 0.7152 - recall: 0.3809 - val_loss: 1.1664 - val_accuracy: 0.5698 - val_precision: 0.7223 - val_recall: 0.3789\n",
      "\n",
      "Epoch 00006: val_loss improved from 1.20353 to 1.16642, saving model to best_weights.h5\n",
      "Epoch 7/12\n",
      "672/672 [==============================] - 94s 140ms/step - loss: 1.9538 - accuracy: 0.5732 - precision: 0.7218 - recall: 0.3932 - val_loss: 1.1001 - val_accuracy: 0.5850 - val_precision: 0.7291 - val_recall: 0.4156\n",
      "\n",
      "Epoch 00007: val_loss improved from 1.16642 to 1.10012, saving model to best_weights.h5\n",
      "Epoch 8/12\n",
      "672/672 [==============================] - 94s 140ms/step - loss: 1.9337 - accuracy: 0.5771 - precision: 0.7231 - recall: 0.4199 - val_loss: 1.1276 - val_accuracy: 0.5706 - val_precision: 0.7548 - val_recall: 0.3994\n",
      "\n",
      "Epoch 00008: val_loss did not improve from 1.10012\n",
      "Epoch 9/12\n",
      "672/672 [==============================] - 94s 139ms/step - loss: 1.8548 - accuracy: 0.5925 - precision: 0.7284 - recall: 0.4217 - val_loss: 1.1313 - val_accuracy: 0.5765 - val_precision: 0.6968 - val_recall: 0.4505\n",
      "\n",
      "Epoch 00009: val_loss did not improve from 1.10012\n",
      "Epoch 10/12\n",
      "672/672 [==============================] - 94s 139ms/step - loss: 1.7887 - accuracy: 0.6010 - precision: 0.7413 - recall: 0.4530 - val_loss: 1.0988 - val_accuracy: 0.5936 - val_precision: 0.7226 - val_recall: 0.4343\n",
      "\n",
      "Epoch 00010: val_loss improved from 1.10012 to 1.09875, saving model to best_weights.h5\n",
      "Epoch 11/12\n",
      "672/672 [==============================] - 93s 139ms/step - loss: 1.7803 - accuracy: 0.6086 - precision: 0.7400 - recall: 0.4580 - val_loss: 1.1499 - val_accuracy: 0.5785 - val_precision: 0.7051 - val_recall: 0.4362\n",
      "\n",
      "Epoch 00011: val_loss did not improve from 1.09875\n",
      "Epoch 12/12\n",
      "672/672 [==============================] - 93s 139ms/step - loss: 1.7870 - accuracy: 0.6056 - precision: 0.7373 - recall: 0.4594 - val_loss: 1.0737 - val_accuracy: 0.6044 - val_precision: 0.7047 - val_recall: 0.4993\n",
      "\n",
      "Epoch 00012: val_loss improved from 1.09875 to 1.07375, saving model to best_weights.h5\n"
     ]
    }
   ],
   "source": [
    "# Train the model\n",
    "history = model.fit(\n",
    "    train_dataset,\n",
    "    steps_per_epoch=len(Train_paths)//BATCH_SIZE,\n",
    "    epochs=12,\n",
    "    validation_data=val_dataset,\n",
    "    validation_steps = len(Val_paths)//BATCH_SIZE,\n",
    "    class_weight=class_weight\n",
    ")"
   ]
  },
  {
   "cell_type": "code",
   "execution_count": null,
   "metadata": {
    "id": "28vylx4DyDBS"
   },
   "outputs": [],
   "source": [
    "model.layers[0].trainable = False"
   ]
  },
  {
   "cell_type": "code",
   "execution_count": null,
   "metadata": {
    "id": "U8r6G0RVU3c2"
   },
   "outputs": [],
   "source": [
    "# Defining our callbacks \n",
    "checkpoint = tf.keras.callbacks.ModelCheckpoint(\"best_weights.h5\",verbose=1,save_best_only=True,save_weights_only = True)\n",
    "early_stop = tf.keras.callbacks.EarlyStopping(patience=4)"
   ]
  },
  {
   "cell_type": "code",
   "execution_count": null,
   "metadata": {
    "colab": {
     "base_uri": "https://localhost:8080/"
    },
    "executionInfo": {
     "elapsed": 1150722,
     "status": "ok",
     "timestamp": 1615020661432,
     "user": {
      "displayName": "Abhilash Chintada",
      "photoUrl": "https://lh3.googleusercontent.com/a-/AOh14GhlwwwMJr16CgjmRFWk833xZEy2OfpaFZDIqM84=s64",
      "userId": "00311744807213723199"
     },
     "user_tz": -330
    },
    "id": "Gn0a29MW0s5c",
    "outputId": "7df14fc1-9222-466c-8329-28e992091906"
   },
   "outputs": [
    {
     "name": "stdout",
     "output_type": "stream",
     "text": [
      "Model: \"sequential_2\"\n",
      "_________________________________________________________________\n",
      "Layer (type)                 Output Shape              Param #   \n",
      "=================================================================\n",
      "efficientnetb2 (Functional)  (None, 3, 3, 1408)        7768569   \n",
      "_________________________________________________________________\n",
      "global_average_pooling2d (Gl (None, 1408)              0         \n",
      "_________________________________________________________________\n",
      "dropout (Dropout)            (None, 1408)              0         \n",
      "_________________________________________________________________\n",
      "dense (Dense)                (None, 128)               180352    \n",
      "_________________________________________________________________\n",
      "dense_1 (Dense)              (None, 7)                 903       \n",
      "=================================================================\n",
      "Total params: 7,949,824\n",
      "Trainable params: 181,255\n",
      "Non-trainable params: 7,768,569\n",
      "_________________________________________________________________\n"
     ]
    }
   ],
   "source": [
    "model.summary()"
   ]
  },
  {
   "cell_type": "code",
   "execution_count": null,
   "metadata": {
    "colab": {
     "base_uri": "https://localhost:8080/"
    },
    "executionInfo": {
     "elapsed": 1893079,
     "status": "ok",
     "timestamp": 1615021403796,
     "user": {
      "displayName": "Abhilash Chintada",
      "photoUrl": "https://lh3.googleusercontent.com/a-/AOh14GhlwwwMJr16CgjmRFWk833xZEy2OfpaFZDIqM84=s64",
      "userId": "00311744807213723199"
     },
     "user_tz": -330
    },
    "id": "1IeOU2kKU5OT",
    "outputId": "41d7cd64-7633-42e9-ead2-75c3ee904fcc"
   },
   "outputs": [
    {
     "name": "stdout",
     "output_type": "stream",
     "text": [
      "Epoch 1/8\n",
      "672/672 [==============================] - 93s 137ms/step - loss: 1.6803 - accuracy: 0.6242 - precision: 0.7489 - recall: 0.4868 - val_loss: 1.1238 - val_accuracy: 0.5917 - val_precision: 0.6829 - val_recall: 0.4951\n",
      "\n",
      "Epoch 00001: val_loss improved from inf to 1.12379, saving model to best_weights.h5\n",
      "Epoch 2/8\n",
      "672/672 [==============================] - 93s 138ms/step - loss: 1.6224 - accuracy: 0.6365 - precision: 0.7547 - recall: 0.5037 - val_loss: 1.0560 - val_accuracy: 0.6112 - val_precision: 0.7309 - val_recall: 0.4747\n",
      "\n",
      "Epoch 00002: val_loss improved from 1.12379 to 1.05605, saving model to best_weights.h5\n",
      "Epoch 3/8\n",
      "672/672 [==============================] - 92s 138ms/step - loss: 1.6350 - accuracy: 0.6336 - precision: 0.7525 - recall: 0.4995 - val_loss: 1.0810 - val_accuracy: 0.6062 - val_precision: 0.6921 - val_recall: 0.5059\n",
      "\n",
      "Epoch 00003: val_loss did not improve from 1.05605\n",
      "Epoch 4/8\n",
      "672/672 [==============================] - 93s 138ms/step - loss: 1.6116 - accuracy: 0.6402 - precision: 0.7515 - recall: 0.5105 - val_loss: 1.0096 - val_accuracy: 0.6272 - val_precision: 0.7210 - val_recall: 0.5280\n",
      "\n",
      "Epoch 00004: val_loss improved from 1.05605 to 1.00958, saving model to best_weights.h5\n",
      "Epoch 5/8\n",
      "672/672 [==============================] - 92s 137ms/step - loss: 1.5672 - accuracy: 0.6467 - precision: 0.7617 - recall: 0.5258 - val_loss: 1.1598 - val_accuracy: 0.5855 - val_precision: 0.6835 - val_recall: 0.4828\n",
      "\n",
      "Epoch 00005: val_loss did not improve from 1.00958\n",
      "Epoch 6/8\n",
      "672/672 [==============================] - 92s 137ms/step - loss: 1.5009 - accuracy: 0.6615 - precision: 0.7641 - recall: 0.5435 - val_loss: 1.0226 - val_accuracy: 0.6258 - val_precision: 0.7183 - val_recall: 0.5318\n",
      "\n",
      "Epoch 00006: val_loss did not improve from 1.00958\n",
      "Epoch 7/8\n",
      "672/672 [==============================] - 93s 139ms/step - loss: 1.5229 - accuracy: 0.6539 - precision: 0.7616 - recall: 0.5385 - val_loss: 1.0430 - val_accuracy: 0.6208 - val_precision: 0.7213 - val_recall: 0.5045\n",
      "\n",
      "Epoch 00007: val_loss did not improve from 1.00958\n",
      "Epoch 8/8\n",
      "672/672 [==============================] - 93s 138ms/step - loss: 1.5159 - accuracy: 0.6536 - precision: 0.7611 - recall: 0.5376 - val_loss: 1.0722 - val_accuracy: 0.6085 - val_precision: 0.7042 - val_recall: 0.5038\n",
      "\n",
      "Epoch 00008: val_loss did not improve from 1.00958\n"
     ]
    }
   ],
   "source": [
    "# Train the model\n",
    "history = model.fit(\n",
    "    train_dataset,\n",
    "    steps_per_epoch=len(Train_paths)//BATCH_SIZE,\n",
    "    epochs=8,\n",
    "    callbacks=[checkpoint , early_stop],\n",
    "    validation_data=val_dataset,\n",
    "    validation_steps = len(Val_paths)//BATCH_SIZE,\n",
    "    class_weight=class_weight\n",
    ")"
   ]
  },
  {
   "cell_type": "markdown",
   "metadata": {
    "id": "vU6Sq7xag7t8"
   },
   "source": [
    "Testing Phase"
   ]
  },
  {
   "cell_type": "code",
   "execution_count": null,
   "metadata": {
    "id": "71WlFdcafnAc"
   },
   "outputs": [],
   "source": [
    "from tensorflow.keras.applications import EfficientNetB2\n",
    "\n",
    "backbone = EfficientNetB2(\n",
    "    input_shape=(96, 96, 3),\n",
    "    include_top=False\n",
    ")\n",
    "\n",
    "model = tf.keras.Sequential([\n",
    "    backbone,\n",
    "    tf.keras.layers.GlobalAveragePooling2D(),\n",
    "    tf.keras.layers.Dropout(0.3),\n",
    "    tf.keras.layers.Dense(128, activation='relu'),\n",
    "    tf.keras.layers.Dense(7, activation='softmax')\n",
    "])\n",
    "\n",
    "model.compile(\n",
    "    optimizer=tf.keras.optimizers.Adam(learning_rate=0.001, beta_1=0.9, beta_2=0.999, epsilon=1e-07),\n",
    "    loss = 'categorical_crossentropy',\n",
    "    metrics=['accuracy' , tf.keras.metrics.Precision(name='precision'),tf.keras.metrics.Recall(name='recall')]\n",
    ")"
   ]
  },
  {
   "cell_type": "code",
   "execution_count": null,
   "metadata": {
    "id": "kh91u_fgyKyL"
   },
   "outputs": [],
   "source": [
    "model.load_weights(\"best_weights.h5\")"
   ]
  },
  {
   "cell_type": "code",
   "execution_count": null,
   "metadata": {
    "id": "zaIUk_NRVJVJ"
   },
   "outputs": [],
   "source": [
    "# Create a Dataset Object for 'Testing' Set just the way we did for Training and Validation\n",
    "test_image_paths = list(test_path.glob(\"*/*\"))\n",
    "test_image_paths = list(map(lambda x : str(x) , test_image_paths))\n",
    "test_labels = list(map(lambda x : get_label(x) , test_image_paths))\n",
    "\n",
    "test_labels = Le.transform(test_labels)\n",
    "test_labels = tf.keras.utils.to_categorical(test_labels)\n",
    "\n",
    "test_image_paths = tf.convert_to_tensor(test_image_paths)\n",
    "test_labels = tf.convert_to_tensor(test_labels)\n",
    "\n",
    "def decode_image(image , label):\n",
    "    image = tf.io.read_file(image)\n",
    "    image = tf.io.decode_jpeg(image , channels = 3)\n",
    "    image = tf.image.resize(image , [96 , 96] , method=\"bilinear\")\n",
    "    return image , label\n",
    "\n",
    "test_dataset = (\n",
    "     tf.data.Dataset\n",
    "    .from_tensor_slices((test_image_paths, test_labels))\n",
    "    .map(decode_image)\n",
    "    .batch(BATCH_SIZE)\n",
    ")"
   ]
  },
  {
   "cell_type": "code",
   "execution_count": null,
   "metadata": {
    "colab": {
     "base_uri": "https://localhost:8080/"
    },
    "executionInfo": {
     "elapsed": 1897412,
     "status": "ok",
     "timestamp": 1615021408157,
     "user": {
      "displayName": "Abhilash Chintada",
      "photoUrl": "https://lh3.googleusercontent.com/a-/AOh14GhlwwwMJr16CgjmRFWk833xZEy2OfpaFZDIqM84=s64",
      "userId": "00311744807213723199"
     },
     "user_tz": -330
    },
    "id": "uBIDOhxee0My",
    "outputId": "907c4b20-1a2e-4ab6-bd73-63b741f027bc"
   },
   "outputs": [
    {
     "name": "stdout",
     "output_type": "stream",
     "text": [
      "(32, 96, 96, 3)\n",
      "(32, 7)\n"
     ]
    }
   ],
   "source": [
    "# Verify Test Dataset Object\n",
    "image , label = next(iter(test_dataset))\n",
    "print(image.shape)\n",
    "print(label.shape)"
   ]
  },
  {
   "cell_type": "code",
   "execution_count": null,
   "metadata": {
    "colab": {
     "base_uri": "https://localhost:8080/",
     "height": 302
    },
    "executionInfo": {
     "elapsed": 1897407,
     "status": "ok",
     "timestamp": 1615021408158,
     "user": {
      "displayName": "Abhilash Chintada",
      "photoUrl": "https://lh3.googleusercontent.com/a-/AOh14GhlwwwMJr16CgjmRFWk833xZEy2OfpaFZDIqM84=s64",
      "userId": "00311744807213723199"
     },
     "user_tz": -330
    },
    "id": "4ZGD3ogge2V-",
    "outputId": "4cda3bbf-c659-4167-be25-0add08b6befc"
   },
   "outputs": [
    {
     "name": "stdout",
     "output_type": "stream",
     "text": [
      "disgust\n"
     ]
    },
    {
     "data": {
      "text/plain": [
       "<matplotlib.image.AxesImage at 0x7fdd83fbaad0>"
      ]
     },
     "execution_count": 29,
     "metadata": {
      "tags": []
     },
     "output_type": "execute_result"
    },
    {
     "data": {
      "image/png": "[encoded data removed]",
      "text/plain": [
       "<Figure size 432x288 with 1 Axes>"
      ]
     },
     "metadata": {
      "needs_background": "light",
      "tags": []
     },
     "output_type": "display_data"
    }
   ],
   "source": [
    "# View a sample Validation Image\n",
    "print(Le.inverse_transform(np.argmax(label , axis = 1))[0])\n",
    "plt.imshow((image[0].numpy()/255).reshape(96 , 96 , 3))"
   ]
  },
  {
   "cell_type": "code",
   "execution_count": null,
   "metadata": {
    "colab": {
     "base_uri": "https://localhost:8080/"
    },
    "executionInfo": {
     "elapsed": 1905865,
     "status": "ok",
     "timestamp": 1615021416622,
     "user": {
      "displayName": "Abhilash Chintada",
      "photoUrl": "https://lh3.googleusercontent.com/a-/AOh14GhlwwwMJr16CgjmRFWk833xZEy2OfpaFZDIqM84=s64",
      "userId": "00311744807213723199"
     },
     "user_tz": -330
    },
    "id": "H8nmdlL5e4LB",
    "outputId": "6c223304-4c62-4410-b267-ad9c0b3dc357"
   },
   "outputs": [
    {
     "name": "stdout",
     "output_type": "stream",
     "text": [
      "225/225 [==============================] - 9s 26ms/step - loss: 1.1528 - accuracy: 0.5663 - precision: 0.6564 - recall: 0.4516\n",
      " Testing Acc :  0.622596800327301\n",
      " Testing Precision  0.7180851101875305\n",
      " Testing Recall  0.5266090631484985\n"
     ]
    }
   ],
   "source": [
    "# Evaluating the loaded model\n",
    "loss, acc, prec, rec = model.evaluate(test_dataset)\n",
    "\n",
    "print(\" Testing Acc : \" , acc)\n",
    "print(\" Testing Precision \" , prec)\n",
    "print(\" Testing Recall \" , rec)"
   ]
  },
  {
   "cell_type": "markdown",
   "metadata": {
    "id": "EvKEpP1yaX8u"
   },
   "source": [
    "Save Objects"
   ]
  },
  {
   "cell_type": "code",
   "execution_count": null,
   "metadata": {
    "id": "6FG-gDVcaZgN"
   },
   "outputs": [],
   "source": [
    "# Save Model\n",
    "model.save(\"FacialExpressionModel.h5\")"
   ]
  },
  {
   "cell_type": "code",
   "execution_count": null,
   "metadata": {
    "id": "_anLO5GWadh1"
   },
   "outputs": [],
   "source": [
    "# Save Label Encoder \n",
    "import pickle\n",
    "\n",
    "def save_object(obj , name):\n",
    "    pickle_obj = open(f\"{name}.pck\",\"wb\")\n",
    "    pickle.dump(obj, pickle_obj)\n",
    "    pickle_obj.close()"
   ]
  },
  {
   "cell_type": "code",
   "execution_count": null,
   "metadata": {
    "id": "5GiwShNva4Z4"
   },
   "outputs": [],
   "source": [
    "save_object(Le, \"LabelEncoder\")"
   ]
  }
 ],
 "metadata": {
  "colab": {
   "authorship_tag": "ABX9TyMIIeNnDInrgPZSNzeJl6is",
   "collapsed_sections": [],
   "name": "Correct_ExpressionRecognition_Training.ipynb",
   "provenance": []
  },
  "kernelspec": {
   "display_name": "Python 3",
   "language": "python",
   "name": "python3"
  },
  "language_info": {
   "codemirror_mode": {
    "name": "ipython",
    "version": 3
   },
   "file_extension": ".py",
   "mimetype": "text/x-python",
   "name": "python",
   "nbconvert_exporter": "python",
   "pygments_lexer": "ipython3",
   "version": "3.7.13"
  }
 },
 "nbformat": 4,
 "nbformat_minor": 1
}
